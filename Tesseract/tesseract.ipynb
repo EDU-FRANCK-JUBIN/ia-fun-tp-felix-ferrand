{
 "cells": [
  {
   "cell_type": "code",
   "execution_count": 1,
   "metadata": {},
   "outputs": [],
   "source": [
    "try:\n",
    "    from PIL import Image\n",
    "except ImportError:\n",
    "    import Image\n",
    "import pytesseract\n",
    "from pytesseract import Output\n",
    "import matplotlib.pyplot as plt\n",
    "import cv2\n",
    "import numpy as np"
   ]
  },
  {
   "cell_type": "code",
   "execution_count": 2,
   "metadata": {},
   "outputs": [
    {
     "name": "stdout",
     "output_type": "stream",
     "text": [
      "Ceci est un premier test\n"
     ]
    }
   ],
   "source": [
    "print(pytesseract.image_to_string(Image.open('image_1.png')))"
   ]
  },
  {
   "cell_type": "code",
   "execution_count": 3,
   "metadata": {},
   "outputs": [
    {
     "name": "stdout",
     "output_type": "stream",
     "text": [
      "level\tpage_num\tblock_num\tpar_num\tline_num\tword_num\tleft\ttop\twidth\theight\tconf\ttext\n",
      "1\t1\t0\t0\t0\t0\t0\t0\t1920\t1080\t-1\t\n",
      "2\t1\t1\t0\t0\t0\t469\t458\t738\t60\t-1\t\n",
      "3\t1\t1\t1\t0\t0\t469\t458\t738\t60\t-1\t\n",
      "4\t1\t1\t1\t1\t0\t469\t458\t738\t60\t-1\t\n",
      "5\t1\t1\t1\t1\t1\t469\t458\t122\t48\t96\tCeci\n",
      "5\t1\t1\t1\t1\t2\t621\t461\t89\t45\t95\test\n",
      "5\t1\t1\t1\t1\t3\t737\t470\t67\t36\t95\tun\n",
      "5\t1\t1\t1\t1\t4\t835\t458\t235\t60\t96\tpremier\n",
      "5\t1\t1\t1\t1\t5\t1092\t461\t115\t45\t96\ttest\n"
     ]
    }
   ],
   "source": [
    "print(pytesseract.image_to_data(Image.open('image_1.png')))"
   ]
  },
  {
   "cell_type": "code",
   "execution_count": 4,
   "metadata": {},
   "outputs": [
    {
     "name": "stdout",
     "output_type": "stream",
     "text": [
      "Page number: 0\n",
      "Orientation in degrees: 0\n",
      "Rotate: 0\n",
      "Orientation confidence: 2.01\n",
      "Script: Latin\n",
      "Script confidence: 11.11\n"
     ]
    }
   ],
   "source": [
    "print(pytesseract.image_to_osd(Image.open('image_2.png')))"
   ]
  },
  {
   "cell_type": "code",
   "execution_count": 5,
   "metadata": {},
   "outputs": [
    {
     "name": "stdout",
     "output_type": "stream",
     "text": [
      "Nombre de boites : 16\n"
     ]
    }
   ],
   "source": [
    "simage = r'image_2.png'\n",
    "img = cv2.imread(simage)\n",
    "d = pytesseract.image_to_data(img, output_type=Output.DICT)\n",
    "\n",
    "NbBoites = len(d['level'])\n",
    "print(\"Nombre de boites : \" + str(NbBoites))"
   ]
  },
  {
   "cell_type": "code",
   "execution_count": 6,
   "metadata": {},
   "outputs": [
    {
     "data": {
      "text/plain": [
       "<matplotlib.image.AxesImage at 0x1ae8f789988>"
      ]
     },
     "execution_count": 6,
     "metadata": {},
     "output_type": "execute_result"
    },
    {
     "data": {
      "image/png": "[encoded data removed]",
      "text/plain": [
       "<Figure size 432x288 with 1 Axes>"
      ]
     },
     "metadata": {
      "needs_background": "light"
     },
     "output_type": "display_data"
    }
   ],
   "source": [
    "for i in range(NbBoites):\n",
    "    (x, y, w, h) = (d['left'][i], d['top'][i], d['width'][i], d['height'][i])\n",
    "    cv2.rectangle(img, (x,y), (x+w, y+h), (0,255,0), 2)\n",
    "    \n",
    "plt.imshow(img)"
   ]
  },
  {
   "cell_type": "code",
   "execution_count": 7,
   "metadata": {},
   "outputs": [],
   "source": [
    "kernel = np.ones((5,5), np.uint8)\n",
    "\n",
    "def grayscale(image):\n",
    "    return cv2.cvtColor(image, cv2.COLOR_BGR2GRAY)\n",
    "\n",
    "def removeNoise(image):\n",
    "    return cv2.medianBlur(image, 5)\n",
    "\n",
    "def thresholding(image):\n",
    "    return cv2.threshold(image, 0, 255, cv2.THRESH_BINARY + cv2.THRESH_OTSU)[1]\n",
    "\n",
    "def dilate(image):\n",
    "    return cv2.dilate(image, kernel, iterations = 1)\n",
    "\n",
    "def erode(image):\n",
    "    return cv2.erode(image, kernel, iterations = 1)\n",
    "\n",
    "def opening(image):\n",
    "    return cv2.morphologyEx(image, cv2.MORPH_OPEN, kernel)\n",
    "\n",
    "def canny(image):\n",
    "    return cv2.Canny(image, 100, 200)\n",
    "\n",
    "def deskew(image):\n",
    "    coords = np.column_stack(np.where(image > 0))\n",
    "    angle = cv2.minAreaRect(coords)[-1]\n",
    "    \n",
    "    if angle < 45:\n",
    "        angle = -(90 + angle)\n",
    "    else:\n",
    "        angle = -angle\n",
    "        \n",
    "    (h,w) = image.shape[:2]\n",
    "    center = (w//2, h//2)\n",
    "    M = cv2.getRotationMatrix2D(center, angle, 1.0)\n",
    "    rotated = cv2.warpAffine(image, M, (w,h), flags=cv2.INTER_CUBIC, borderMode=cv2.BORDER_REPLICATE)\n",
    "    \n",
    "    return rotated\n",
    "\n",
    "def match_template(image, template):\n",
    "    return cv2.matchTemplate(image, template, cv2.TM_CCOEFF_NORMED)"
   ]
  },
  {
   "cell_type": "code",
   "execution_count": 8,
   "metadata": {},
   "outputs": [
    {
     "name": "stdout",
     "output_type": "stream",
     "text": [
      "jour ceci est un test\n"
     ]
    },
    {
     "data": {
      "text/plain": [
       "<matplotlib.image.AxesImage at 0x1ae8f843c48>"
      ]
     },
     "execution_count": 8,
     "metadata": {},
     "output_type": "execute_result"
    },
    {
     "data": {
      "image/png": "[encoded data removed]",
      "text/plain": [
       "<Figure size 432x288 with 1 Axes>"
      ]
     },
     "metadata": {
      "needs_background": "light"
     },
     "output_type": "display_data"
    }
   ],
   "source": [
    "simage = r'image_4.png'\n",
    "image_origin = cv2.imread(simage)\n",
    "\n",
    "print(pytesseract.image_to_string(image_origin, lang='fra'))\n",
    "plt.imshow(image_origin, 'gray')"
   ]
  },
  {
   "cell_type": "code",
   "execution_count": 9,
   "metadata": {},
   "outputs": [
    {
     "name": "stdout",
     "output_type": "stream",
     "text": [
      "Bonjour ceci cest un test\n"
     ]
    },
    {
     "data": {
      "text/plain": [
       "<matplotlib.image.AxesImage at 0x1ae8fa21b48>"
      ]
     },
     "execution_count": 9,
     "metadata": {},
     "output_type": "execute_result"
    },
    {
     "data": {
      "image/png": "[encoded data removed]",
      "text/plain": [
       "<Figure size 432x288 with 1 Axes>"
      ]
     },
     "metadata": {
      "needs_background": "light"
     },
     "output_type": "display_data"
    }
   ],
   "source": [
    "retouche3 = removeNoise(image_origin)\n",
    "\n",
    "print(pytesseract.image_to_string(retouche3, lang='fra'))\n",
    "plt.imshow(retouche3)"
   ]
  },
  {
   "cell_type": "code",
   "execution_count": 10,
   "metadata": {},
   "outputs": [
    {
     "name": "stdout",
     "output_type": "stream",
     "text": [
      "Bonjour cect est un test\n"
     ]
    },
    {
     "data": {
      "text/plain": [
       "<matplotlib.image.AxesImage at 0x1ae8fa91e08>"
      ]
     },
     "execution_count": 10,
     "metadata": {},
     "output_type": "execute_result"
    },
    {
     "data": {
      "image/png": "[encoded data removed]",
      "text/plain": [
       "<Figure size 432x288 with 1 Axes>"
      ]
     },
     "metadata": {
      "needs_background": "light"
     },
     "output_type": "display_data"
    }
   ],
   "source": [
    "simage = r'image_5.png'\n",
    "image_origin = cv2.imread(simage)\n",
    "retouche3 = removeNoise(image_origin)\n",
    "\n",
    "print(pytesseract.image_to_string(retouche3, lang='fra'))\n",
    "plt.imshow(retouche3)"
   ]
  },
  {
   "cell_type": "code",
   "execution_count": 11,
   "metadata": {},
   "outputs": [
    {
     "name": "stdout",
     "output_type": "stream",
     "text": [
      "Bonjour ceci est un test\n"
     ]
    },
    {
     "data": {
      "text/plain": [
       "<matplotlib.image.AxesImage at 0x1ae8faf9e88>"
      ]
     },
     "execution_count": 11,
     "metadata": {},
     "output_type": "execute_result"
    },
    {
     "data": {
      "image/png": "[encoded data removed]",
      "text/plain": [
       "<Figure size 432x288 with 1 Axes>"
      ]
     },
     "metadata": {
      "needs_background": "light"
     },
     "output_type": "display_data"
    }
   ],
   "source": [
    "retouche4 = thresholding(grayscale(removeNoise(image_origin)))\n",
    "\n",
    "print(pytesseract.image_to_string(retouche4, lang='fra'))\n",
    "plt.imshow(retouche4, 'gray')"
   ]
  },
  {
   "cell_type": "code",
   "execution_count": 14,
   "metadata": {},
   "outputs": [
    {
     "name": "stdout",
     "output_type": "stream",
     "text": [
      "Nombre de pages : 1\n",
      "Page n°1\n",
      "\n",
      "DZSWITte |\n",
      "\n",
      "SASU DORJ\n",
      "\n",
      "Nom : MICHEL Stéphane\n",
      "\n",
      "Email : dorj.art@gmail.com\n",
      "\n",
      "N° Intra Comm : FR54830089348\n",
      "N° Siret/ID : 831241815\n",
      "Identifiant client : dorj.art\n",
      "\n",
      "Code client : S2H1 1935\n",
      "\n",
      "Compte web : dorjart\n",
      "Nom de domaine : dorj.com\n",
      "\n",
      "5, esplanade Compans-Caffarelli Bat A - CS 57130\n",
      "31000 - Toulouse\n",
      "\n",
      "FACTURE 2018019525\n",
      "\n",
      "Date : 16/06/2018\n",
      "Hébergement O2SWITCH\n",
      "\n",
      "222 Boulevard Gustave Flaubert\n",
      "\n",
      "63000 Clermont-Ferrand\n",
      "commercial@o2switch.fr\n",
      "Ref. interne 403083\n",
      "\n",
      " \n",
      "\n",
      " \n",
      "\n",
      " \n",
      "\n",
      " \n",
      "\n",
      " \n",
      "\n",
      " \n",
      "\n",
      " \n",
      "\n",
      " \n",
      "\n",
      " \n",
      "\n",
      " \n",
      "\n",
      " \n",
      "\n",
      " \n",
      "\n",
      " \n",
      "\n",
      " \n",
      "\n",
      "FRANCE\n",
      "Désignation achat : | Durée : Prix HT:|| Prix TTC :\n",
      "Création Offre Unique o2switch | 12 mois 60,00 € | 72,00 €\n",
      "Total HT =|] 60,00 €\n",
      "En cas de retard de paiement, taux de pénalité de une fois le taux d'intérét légal et ;\n",
      "indemnité forfaitaire pour frais de recouvrement de 40€ (art. L.441-6 du code du commerce) Taux TVA : | 20,00 %\n",
      "Aucun escompte ne sera accordé pour paiement anticipé. Total TVA : 12.00€\n",
      "Paiement comptant. WN _\n",
      "Total TTC :|| 72,00 €\n",
      "\n",
      " \n",
      "\n",
      " \n",
      "\n",
      " \n",
      "\n",
      " \n",
      "\n",
      " \n",
      "\n",
      " \n",
      "\n",
      " \n",
      "\n",
      " \n",
      "\n",
      " \n",
      "\n",
      " \n",
      "\n",
      "Siége social : 222-224 Boulevard Gustave Flaubert - 63000 Clermont-Ferrand - Tel : 04 44 44 60 40 - Fax : 04 44 44 60 41\n",
      "Siret : 510 909 80700024 - Société a responsabilité limitée a associé unique au capital de 100 000€\n",
      "code NAF : 6311Z - Traitement de données, hébergement et activités connexes - Identifiant TVA : FR35510909807 - RCS Clermont-Ferrand\n"
     ]
    }
   ],
   "source": [
    "from pdf2image import convert_from_path, convert_from_bytes\n",
    "\n",
    "images = convert_from_path('facture.pdf')\n",
    "print(\"Nombre de pages : \" + str(len(images)))\n",
    "\n",
    "for i in range (len(images)):\n",
    "    print(\"Page n°\" + str(i+1) + \"\\n\")\n",
    "    print(pytesseract.image_to_string(images[i]))"
   ]
  }
 ],
 "metadata": {
  "kernelspec": {
   "display_name": "Python 3",
   "language": "python",
   "name": "python3"
  },
  "language_info": {
   "codemirror_mode": {
    "name": "ipython",
    "version": 3
   },
   "file_extension": ".py",
   "mimetype": "text/x-python",
   "name": "python",
   "nbconvert_exporter": "python",
   "pygments_lexer": "ipython3",
   "version": "3.7.5"
  }
 },
 "nbformat": 4,
 "nbformat_minor": 2
}
